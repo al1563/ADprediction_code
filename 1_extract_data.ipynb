{
 "cells": [
  {
   "cell_type": "markdown",
   "metadata": {},
   "source": [
    "## This notebook covers some of the general code for extracting the data from OMOP\n",
    "\n",
    "### But note that for improved specificity, some of the data cleaning and mappings with external datasets may be specific to each individual care site."
   ]
  },
  {
   "cell_type": "code",
   "execution_count": null,
   "metadata": {},
   "outputs": [],
   "source": [
    "# imports\n",
    "import pandas as pd\n",
    "import pyodbc\n",
    "import os\n",
    "import matplotlib.pyplot as plt\n",
    "import numpy as np\n",
    "import seaborn as sns\n",
    "from tqdm import tqdm\n",
    "import sqlalchemy\n",
    "import urllib\n",
    "\n",
    "pd.set_option('display.max_rows', 500)\n",
    "pd.set_option('display.max_columns', 500)\n",
    "np.set_printoptions(threshold=500)\n",
    "basedir = os.getcwd()"
   ]
  },
  {
   "cell_type": "code",
   "execution_count": null,
   "metadata": {},
   "outputs": [],
   "source": [
    "# Connect to database\n",
    "con = pyodbc.connect(\"{EHR_CONNECTION_STRING}\")"
   ]
  },
  {
   "cell_type": "code",
   "execution_count": null,
   "metadata": {},
   "outputs": [],
   "source": [
    "%run ehr_helper_functions.py"
   ]
  },
  {
   "cell_type": "code",
   "execution_count": null,
   "metadata": {},
   "outputs": [],
   "source": [
    "# get information for all OMOP patients\n",
    "snapshot_date = '2022/01/01'\n",
    "original_emr_pt_table = 'emr_patient_table'\n",
    "sqlstring = f\"\"\"SELECT P.person_id, PDD.Sex, PDD.RaceEthnicity, \n",
    "                       P.birth_datetime, VOE.n_visits, VOE.min_date, VOE.max_date, \n",
    "                       DATEDIFF(year, P.birth_datetime, '{snapshot_date}') as e_age\n",
    "                FROM person P \n",
    "                LEFT JOIN {original_emr_pt_table} PDD\n",
    "                    ON PDD.pt_key = P.person_source_value\n",
    "                LEFT JOIN (  SELECT VO.person_id, COUNT(DISTINCT VO.visit_occurrence_id) n_visits, \n",
    "                             MIN((CASE WHEN VO.visit_start_date <= VO.visit_end_date THEN VO.visit_start_date\n",
    "                                  ELSE VO.visit_end_date END)) as min_date, \n",
    "                             MAX((CASE WHEN VO.visit_start_date >= VO.visit_end_date THEN VO.visit_start_date\n",
    "                                  ELSE VO.visit_end_date END)) as max_date\n",
    "                             FROM visit_occurrence VO\n",
    "                             GROUP BY VO.person_id) VOE\n",
    "                    ON VOE.person_id = P.person_id\"\"\"\n",
    "cohort_info = pd.read_sql_query(sqlstring, con)"
   ]
  },
  {
   "cell_type": "code",
   "execution_count": null,
   "metadata": {},
   "outputs": [],
   "source": [
    "# Map diagnoses information and updated onset dates with UCSF Memory and Aging Center database\n",
    "cohortpts = pd.read_csv('data/example_MAC_pts.csv')\n",
    "# columns: person_id, dx, firstdx_date"
   ]
  },
  {
   "cell_type": "code",
   "execution_count": null,
   "metadata": {},
   "outputs": [],
   "source": [
    "# Get concept mappings \n",
    "dem_concepts = get_string_condition_related_descendants('dementia')\n",
    "ad_concepts = get_string_condition_related_descendants('alzheimer')\n",
    "\n",
    "# get exclusion concepts\n",
    "neurodeg_concepts = get_icd10_related_descendants('G[123]%') \n",
    "nonexclusion_concepts = [45571793, 35207345, 376337, 73754, 45586281, 435802]\n",
    "neurodeg_concepts = neurodeg_concepts[~neurodeg_concepts.ultconcept.isin(nonexclusion_concepts)]\n",
    "\n",
    "# Get dementia drugs\n",
    "demdrug_concepts = get_ATC_related_descendants('N06D')"
   ]
  },
  {
   "cell_type": "code",
   "execution_count": null,
   "metadata": {},
   "outputs": [],
   "source": [
    "# Get Index time for Alzheimers Disease\n",
    "# this is the diagnosis of any dementia OR MCI \n",
    "# OR prescription of donepezil, memantine, galantamine, and other anti-dementia drug in the N06D ATC category\n",
    "sqlstring =\"\"\"\n",
    "        SELECT CO.person_id, MIN(CO.condition_start_date) as min_date, cc.concept_name\n",
    "        FROM condition_occurrence CO   \n",
    "        LEFT JOIN concept cc\n",
    "            ON CO.condition_concept_id = cc.concept_id     \n",
    "        WHERE CO.condition_concept_id in ({}) and CO.person_id in ({})\n",
    "        group by CO.person_id, cc.concept_name\n",
    "        \"\"\".format(\",\".join(np.concatenate((ad_concepts.concept_id_2.astype(str).unique(), \n",
    "                                            dem_concepts.concept_id_2.astype(str).unique()))), \n",
    "                  \",\".join(cohortpts.person_id.astype(str).values))\n",
    "ad_cond = pd.read_sql_query(sqlstring, con)\n",
    "\n",
    "sqlstring =\"\"\"\n",
    "        SELECT DE.person_id, MIN(DE.drug_exposure_start_date) as min_date, cc.concept_name\n",
    "        FROM drug_exposure DE\n",
    "        LEFT JOIN concept cc\n",
    "            ON DE.drug_concept_id = cc.concept_id     \n",
    "        WHERE DE.drug_concept_id in ({}) and DE.person_id in ({})\n",
    "        group by DE.person_id, cc.concept_name\n",
    "        \"\"\".format(\",\".join(demdrug_concepts.ultconcept.astype(str).unique()), \n",
    "                   \",\".join(cohortpts.person_id.astype(str).values))\n",
    "ad_drug = pd.read_sql_query(sqlstring, con)\n",
    "\n",
    "# get overall minimum date within multiple entries per patient\n",
    "ad_conddrug = ad_cond.append(ad_drug).sort_values(['person_id','min_date'])\n",
    "ad_conddrug = ad_conddrug.merge(cohortpts, on = 'person_id', how = 'left')\n",
    "ad_conddrug['min_date'] = pd.to_datetime(ad_conddrug['min_date'])\n",
    "ad_conddrug['mindaterow'] = ad_conddrug[['min_date','firstdx_date']].min(axis=1)\n",
    "ptmindate = ad_conddrug.groupby('person_id')['mindaterow'].min().to_frame().rename({'mindaterow':'mindatept'},axis=1)\n",
    "ad_conddrug = ad_conddrug.merge(ptmindate, on = 'person_id', how = 'left').sort_values(['person_id','min_date'])"
   ]
  },
  {
   "cell_type": "code",
   "execution_count": null,
   "metadata": {},
   "outputs": [],
   "source": [
    "# get controls\n",
    "\n",
    "# Excluded patients: patients with dementia or dementia drug\n",
    "sqlstring = \"\"\"SELECT * FROM\n",
    "    (SELECT DISTINCT DE.person_id FROM condition_occurrence CO\n",
    "    LEFT JOIN concept cc ON CO.condition_concept_id = cc.concept_id   \n",
    "    WHERE cc.concept_id in ({}))\n",
    "    UNION\n",
    "    (SELECT DISTINCT DE.person_id FROM drug_exposure DE\n",
    "    LEFT JOIN concept cc ON DE.drug_concept_id = cc.concept_id   \n",
    "    WHERE cc.concept_id in ({})) \n",
    "    \"\"\".format(','.join(neurodeg_concepts.ultconcept.astype(str).unique()),\n",
    "                ','.join(demdrug_concepts.ultconcept.astype(str).unique()))\n",
    "pts_with_dem_drug = pd.read_sql_query(sqlstring, con)\n",
    "pts_exclude = np.unique(np.concatenate((pts_with_dem_drug.person_id, ad_conddrug.person_id)))\n",
    "\n",
    "# then get all other patients\n",
    "sqlstring = \"\"\" SELECT P.person_id, PDD.Sex, PDD.RaceEthnicity, P.birth_datetime,\n",
    "                          VOE.min_date, VOE.max_date, DATEDIFF(year, P.birth_datetime, '{}') as e_age,\n",
    "                          DATEADD(MONTH, -12, VOE.max_date) as mindatept\n",
    "                    FROM person P \n",
    "                    LEFT JOIN {original_emr_pt_table} PDD\n",
    "                        ON PDD.pt_key = P.person_source_value\n",
    "                    INNER JOIN (SELECT VO.person_id, MIN((CASE WHEN VO.visit_start_date <= VO.visit_end_date THEN VO.visit_start_date\n",
    "                                 ELSE VO.visit_end_date END)) as min_date, \n",
    "                                 MAX((CASE WHEN VO.visit_start_date >= VO.visit_end_date THEN VO.visit_start_date\n",
    "                                 ELSE VO.visit_end_date END)) as max_date\n",
    "                           FROM visit_occurrence VO\n",
    "                           GROUP BY VO.person_id) VOE\n",
    "                        ON VOE.person_id = P.person_id\n",
    "                    WHERE (DATEDIFF(month, VOE.min_date, VOE.max_date)>=12) AND (P.person_id NOT IN ({}))\n",
    "                    \"\"\".format(snapshot_date, original_emr_pt_table, \",\".join(pts_exclude))\n",
    "all_controls = pd.read_sql_query(sqlstring, con)"
   ]
  },
  {
   "cell_type": "markdown",
   "metadata": {},
   "source": [
    "# Now extract the OMOP data for prediction models"
   ]
  },
  {
   "cell_type": "code",
   "execution_count": null,
   "metadata": {},
   "outputs": [],
   "source": [
    "# saved index date in database for faster queries, in a temporary table called #ptdateindex"
   ]
  },
  {
   "cell_type": "code",
   "execution_count": null,
   "metadata": {},
   "outputs": [],
   "source": [
    "# visits\n",
    "sqlstring = \"\"\"SELECT DISTINCT VO.visit_occurrence_id, VO.person_id, VO.visit_start_date, VO.visit_concept_id, \n",
    "                VO.care_site_id, CS.care_site_name, VO.provider_id, P.specialty_source_value\n",
    "                FROM visit_occurrence VO\n",
    "                LEFT JOIN care_site CS\n",
    "                    on CS.care_site_id = VO.care_site_id\n",
    "                LEFT JOIN provider P\n",
    "                    on P.provider_id = VO.provider_id\n",
    "                INNER JOIN #ptdateindex MD\n",
    "                    on MD.person_id = VO.person_id\"\"\"\n",
    "gvis = pd.read_sql_query(sqlstring,con)\n",
    "for m in ['visit_concept_id']:\n",
    "    gvis[m+'_value']=gvis[m].map(conceptToNameMap(gvis[m]))\n",
    "gvis = gvis.sort_values(['person_id','visit_start_date'])\n",
    "gvis.to_csv('data/cohort_visits.csv')\n",
    "del gvis"
   ]
  },
  {
   "cell_type": "code",
   "execution_count": null,
   "metadata": {},
   "outputs": [],
   "source": [
    "# conditions\n",
    "sqlstring = \"\"\"SELECT DISTINCT CO.person_id, CO.condition_concept_id, CO.condition_start_date, MD.mindatept\n",
    "            from condition_occurrence CO\n",
    "            INNER JOIN #ptdateindex MD\n",
    "                on MD.person_id = CO.person_id\"\"\"\n",
    "gcond = pd.read_sql_query(sqlstring,con)\n",
    "for m in ['condition_concept_id']:\n",
    "    gcond[m+'_value']=gcond[m].map(conceptToNameMap(gcond[m]))\n",
    "gcond = gcond.sort_values(['person_id','condition_start_date'])\n",
    "gcond.to_csv('data/cohort_conditions.csv')\n",
    "del gcond"
   ]
  },
  {
   "cell_type": "code",
   "execution_count": null,
   "metadata": {},
   "outputs": [],
   "source": [
    "#Measurements\n",
    "sqlstring = \"\"\"SELECT DISTINCT M.person_id, MD.mindatept, M.person_id, M.measurement_date, \n",
    "                M.measurement_concept_id, M.range_low, M.range_high, M.value_as_number, \n",
    "                M.value_source_value, M.unit_source_value, M.measurement_source_value\n",
    "            from measurement M\n",
    "            INNER JOIN #ptdateindex MD\n",
    "                on MD.person_id = M.person_id\"\"\"\n",
    "gmeas = pd.read_sql_query(sqlstring, con)\n",
    "for m in ['measurement_concept_id']:\n",
    "    gmeas[m+'_value']=gmeas[m].map(conceptToNameMap(gmeas[m]))\n",
    "gmeas = gmeas.sort_values(['person_id','measurement_date'])\n",
    "gmeas.to_csv('data/cohort_measures.csv')\n",
    "del gmeas"
   ]
  },
  {
   "cell_type": "code",
   "execution_count": null,
   "metadata": {},
   "outputs": [],
   "source": [
    "# Drug Exposures\n",
    "sqlstring = \"\"\"SELECT DISTINCT DE.person_id, DE.drug_concept_id, \n",
    "            DE.drug_type_concept_id, DE.dose_unit_concept_id, DE.drug_exposure_start_date, MD.mindatept,\n",
    "            DE.drug_exposure_end_date, DE.effective_drug_dose, DE.dose_unit_source_value,\n",
    "            DE.refills, DE.quantity, DE.sig, DE.route_source_value\n",
    "            from drug_exposure DE\n",
    "            INNER JOIN #ptdateindex MD\n",
    "                on MD.person_id = DE.person_id\n",
    "            --where DE.drug_exposure_start_date < MD.mindatept\"\"\"\n",
    "gdrugs = pd.read_sql_query(sqlstring, con)\n",
    "for m in ['drug_concept_id','drug_type_concept_id','dose_unit_concept_id']:\n",
    "    gdrugs[m+'_value'] = gdrugs[m].map(conceptToNameMap(gdrugs[m]))\n",
    "gdrugs = gdrugs.sort_values(['person_id','drug_exposure_start_date'])\n",
    "gdrugs.to_csv('data/cohort_drugs.csv')\n",
    "del gdrugs"
   ]
  },
  {
   "cell_type": "code",
   "execution_count": null,
   "metadata": {},
   "outputs": [],
   "source": []
  },
  {
   "cell_type": "code",
   "execution_count": null,
   "metadata": {},
   "outputs": [],
   "source": [
    "control_visits = list()\n",
    "for k, g in tqdm(all_controls.groupby(np.arange(len(all_controls))//1000)):\n",
    "    gvis = pd.read_sql_query(\"\"\"SELECT DISTINCT VO.visit_occurrence_id, VO.person_id, VO.visit_start_date, VO.visit_concept_id\n",
    "                FROM visit_occurrence VO\n",
    "                WHERE VO.person_id in ({})\"\"\".format(\",\".join(g.person_id.astype(str).unique())), con)\n",
    "    for m in ['visit_concept_id']:\n",
    "        gvis[m+'_value']=gvis[m].map(conceptToNameMap(gvis[m]))\n",
    "    gvis = gvis.sort_values(['person_id','visit_start_date'])\n",
    "    control_visits.append(gvis)\n",
    "    \n",
    "control_visits = pd.concat(gvisall)\n",
    "control_visits.to_csv('cohort_selection/controlvisits.csv', index = False )\n",
    "del control_visits, gvis\n",
    "gc.collect()"
   ]
  },
  {
   "cell_type": "code",
   "execution_count": null,
   "metadata": {},
   "outputs": [],
   "source": [
    "# Conditions\n",
    "control_conditions = list()\n",
    "for k, g in tqdm(all_controls.groupby(np.arange(len(all_controls))//1000)):\n",
    "    gcond = pd.read_sql_query(\"\"\"SELECT DISTINCT CO.person_id, CO.condition_concept_id, CO.condition_start_date\n",
    "                from condition_occurrence CO\n",
    "                WHERE CO.person_id in ({})\"\"\".format(\",\".join(g.person_id.astype(str).unique())), con)\n",
    "    for m in ['condition_concept_id']:\n",
    "        gcond[m+'_value']=gcond[m].map(conceptToNameMap(gcond[m]))\n",
    "    gcond = gcond.sort_values(['person_id','condition_start_date'])\n",
    "    control_conditions.append(gcond)\n",
    "    \n",
    "control_conditions = pd.concat(control_conditions)\n",
    "control_conditions.to_csv('cohort_selection/controlconditions.csv', index = False )\n",
    "del control_conditions, gcond\n",
    "gc.collect()"
   ]
  },
  {
   "cell_type": "code",
   "execution_count": null,
   "metadata": {},
   "outputs": [],
   "source": [
    "# Drug Exposures\n",
    "control_drugs = list()\n",
    "for k, g in tqdm(all_controls.groupby(np.arange(len(all_controls))//1000)):\n",
    "    sqlstring = \"\"\"SELECT DISTINCT DE.person_id, DE.drug_concept_id, \n",
    "            DE.drug_type_concept_id, DE.dose_unit_concept_id, DE.drug_exposure_start_date, \n",
    "            DE.drug_exposure_end_date, DE.effective_drug_dose, DE.dose_unit_source_value,\n",
    "            DE.refills, DE.quantity, DE.sig, DE.route_source_value\n",
    "            from drug_exposure DE\n",
    "            WHERE DE.person_id in ({})\"\"\".format(\",\".join(g.person_id.astype(str).unique()))\n",
    "    control_drugs = pd.read_sql_query(sqlstring, con)\n",
    "    for m in ['drug_concept_id','drug_type_concept_id','dose_unit_concept_id']:\n",
    "        gdrugs[m+'_value'] = gdrugs[m].map(conceptToNameMap(gdrugs[m]))\n",
    "    gdrugs = gdrugs.sort_values(['person_id','drug_exposure_start_date'])    \n",
    "    control_drugs.append(gdrugs)\n",
    "control_drugs = pd.concat(control_drugs)\n",
    "control_drugs.to_csv('cohort_selection/controldrugs.csv')\n",
    "del control_drugs, gdrugs\n",
    "gc.collect()"
   ]
  },
  {
   "cell_type": "code",
   "execution_count": null,
   "metadata": {},
   "outputs": [],
   "source": [
    "# MEASURES\n",
    "control_measures = list()\n",
    "for k, g in tqdm(all_controls.groupby(np.arange(len(all_controls))//1000)):\n",
    "    print(k)\n",
    "    sqlstring = \"\"\"SELECT DISTINCT M.person_id, M.measurement_date, \n",
    "                M.measurement_concept_id, M.range_low, M.range_high, M.value_as_number, \n",
    "                M.value_source_value, M.unit_source_value, M.measurement_source_value\n",
    "                from measurement M\n",
    "                WHERE M.person_id in ({})\"\"\".format(\",\".join(g.person_id.astype(str).unique()))\n",
    "    gmeas = pd.read_sql_query(sqlstring, con)\n",
    "    for m in ['measurement_concept_id']: gmeas[m+'_value']=gmeas[m].map(conceptToNameMap(gmeas[m]))\n",
    "    gmeas = gmeas.sort_values(['person_id','measurement_date'])\n",
    "    control_measures.append(gmeas)\n",
    "    \n",
    "    if ((k%500)==0): # This was implemented to split into multiple files\n",
    "        print('saving: num {}'.format(k))\n",
    "        control_measures = pd.concat(control_measures)\n",
    "        control_measures.to_csv('cohort_selection/controlmeasures{}.csv'.format(k//500), index = False)\n",
    "        del control_measures\n",
    "        gc.collect()\n",
    "        control_measures = list()\n",
    "control_measures = pd.concat(control_measures)\n",
    "control_measures.to_csv('cohort_selection/controlmeasures{}.csv'.format(len(all_controls)//1000//500+1), index = False)\n",
    "\n"
   ]
  },
  {
   "cell_type": "code",
   "execution_count": null,
   "metadata": {},
   "outputs": [],
   "source": []
  },
  {
   "cell_type": "code",
   "execution_count": null,
   "metadata": {},
   "outputs": [],
   "source": []
  }
 ],
 "metadata": {
  "kernelspec": {
   "display_name": "ehrml",
   "language": "python",
   "name": "ehrml"
  },
  "language_info": {
   "codemirror_mode": {
    "name": "ipython",
    "version": 3
   },
   "file_extension": ".py",
   "mimetype": "text/x-python",
   "name": "python",
   "nbconvert_exporter": "python",
   "pygments_lexer": "ipython3",
   "version": "3.6.8"
  }
 },
 "nbformat": 4,
 "nbformat_minor": 4
}
